{
  "nbformat": 4,
  "nbformat_minor": 0,
  "metadata": {
    "colab": {
      "name": "Project_3_(SAI_SRIKANTH_SARABU).ipynb",
      "provenance": [],
      "collapsed_sections": []
    },
    "kernelspec": {
      "name": "python3",
      "display_name": "Python 3"
    },
    "language_info": {
      "name": "python"
    }
  },
  "cells": [
    {
      "cell_type": "markdown",
      "metadata": {
        "id": "DZkNxPhs-oZv"
      },
      "source": [
        "#SAI SRIKANTH SARABU\n",
        "#CWID: A20343781"
      ]
    },
    {
      "cell_type": "code",
      "metadata": {
        "colab": {
          "base_uri": "https://localhost:8080/"
        },
        "id": "iJhhMgP-0-jI",
        "outputId": "59480635-7d26-4d4d-fb9b-024ff2f8110d"
      },
      "source": [
        "!pip install pyspark"
      ],
      "execution_count": 1,
      "outputs": [
        {
          "output_type": "stream",
          "name": "stdout",
          "text": [
            "Requirement already satisfied: pyspark in /usr/local/lib/python3.7/dist-packages (3.2.0)\n",
            "Requirement already satisfied: py4j==0.10.9.2 in /usr/local/lib/python3.7/dist-packages (from pyspark) (0.10.9.2)\n"
          ]
        }
      ]
    },
    {
      "cell_type": "code",
      "metadata": {
        "colab": {
          "base_uri": "https://localhost:8080/"
        },
        "id": "VgHVjV1Q1Eoo",
        "outputId": "846e426d-e9a3-4e12-af4f-bf16c7faf7cd"
      },
      "source": [
        "from google.colab import drive\n",
        "drive.mount('/content/drive')"
      ],
      "execution_count": 2,
      "outputs": [
        {
          "output_type": "stream",
          "name": "stdout",
          "text": [
            "Drive already mounted at /content/drive; to attempt to forcibly remount, call drive.mount(\"/content/drive\", force_remount=True).\n"
          ]
        }
      ]
    },
    {
      "cell_type": "code",
      "metadata": {
        "id": "YXB6dzeP1YGk"
      },
      "source": [
        "from pyspark import SparkContext, SparkConf\n",
        "import numpy as np                           #importing numpy for simple calculation\n",
        "import matplotlib.pyplot as plt              #importing matplotlib for line plot"
      ],
      "execution_count": 3,
      "outputs": []
    },
    {
      "cell_type": "code",
      "metadata": {
        "id": "2qC_iOUI1Uc7"
      },
      "source": [
        "data= '/content/drive/MyDrive/Sample Data/data.txt'"
      ],
      "execution_count": 4,
      "outputs": []
    },
    {
      "cell_type": "code",
      "metadata": {
        "id": "uXv06Ifj1k_D"
      },
      "source": [
        "sc = SparkContext(\"local\",\"Project-3: k-Means Clustering with PySpark\") "
      ],
      "execution_count": 5,
      "outputs": []
    },
    {
      "cell_type": "code",
      "metadata": {
        "id": "32xf66WZ18OE"
      },
      "source": [
        "allData = sc.textFile(data) #Making complete RDD"
      ],
      "execution_count": 6,
      "outputs": []
    },
    {
      "cell_type": "code",
      "metadata": {
        "id": "QFirONnU2E9o"
      },
      "source": [
        "#this function converts each number in a line to to float and return List \n",
        "def convertToFloat(x):\n",
        "  floatX = []\n",
        "  for i in x:\n",
        "    floatX.append(float(i))\n",
        "  return floatX \n",
        "#the below line splitting the complete data to each line, converting strings to float numbers, assigning index to each line in the data\n",
        "allDataPoints = allData.map(lambda line: line.split()).map(lambda x:convertToFloat(x)).zipWithIndex().map(lambda x:(x[1],x[0]))"
      ],
      "execution_count": 7,
      "outputs": []
    },
    {
      "cell_type": "code",
      "metadata": {
        "id": "TNxdCJnJ2GL_"
      },
      "source": [
        "K = 10      #initializing K as number of clusters\n",
        "I = 20      #initializing I for number of iterations\n",
        "#below line is taking random K points from the complete data as initial centroids\n",
        "centroidsDataRDD = sc.broadcast(sc.parallelize(allDataPoints.takeSample(False,K)).collect())"
      ],
      "execution_count": 8,
      "outputs": []
    },
    {
      "cell_type": "markdown",
      "metadata": {
        "id": "faWPpRegOLL3"
      },
      "source": [
        "**K- Means using Euclidean distance**"
      ]
    },
    {
      "cell_type": "code",
      "metadata": {
        "id": "sHhTOsWD4RZA"
      },
      "source": [
        "#Function below will find nearest centroid to point and return the centroid index i.e., the line it is present in the file, its value(all dimenions) and cost of that data point \n",
        "def euclDist(x):\n",
        "  minDist = float('inf')                              #initializing distance to the inifinity\n",
        "  for i in centroidsDataED.value:                     #looping through all the centroids\n",
        "    dist = np.sqrt(np.sum(np.square(np.array(x[1]) - np.array(i[1]))))    #subtracting data point value with centroid value, squaring it, adding all those and square rooting it. \n",
        "    if dist < minDist:                                #making sure we get minimum distance centroid\n",
        "      minDist = dist                                  #assigning minimum distance\n",
        "      clusterNumber = i[0]                            #assigning the cluster number of that minimum distance centroid\n",
        "  return (clusterNumber,x[1],round(minDist**2,2))     #returning centrioid cluster number, values and cost of the point"
      ],
      "execution_count": 9,
      "outputs": []
    },
    {
      "cell_type": "code",
      "metadata": {
        "id": "JXM8wwuxlvms"
      },
      "source": [
        "costFuncED = []                                       #initializing cost list for I(20) iterations\n",
        "centroidsDataED = centroidsDataRDD                    #copying initial centroid value \n",
        "for i in range(I):                                    #iterating I(20) times\n",
        "  clusters = allDataPoints.map(lambda x: euclDist(x))       #calling euclDistance() function to get cluster each point it belongs to.\n",
        "  #below line taking centroid cluster number and value then grouping by the key and making list of all value lists and taking average of that to new centroid\n",
        "  #and then broadcasting centroids to access in euclDist in next iteration. \n",
        "  centroidsDataED = sc.broadcast(clusters.map(lambda x:(x[0],x[1])).groupByKey().mapValues(list).map(lambda x: (x[0],np.average(x[1],axis =0))).collect())\n",
        "  costFuncED.append(clusters.map(lambda x:x[2]).sum())      #Summing up cost of each point and appending it to the List."
      ],
      "execution_count": 10,
      "outputs": []
    },
    {
      "cell_type": "code",
      "metadata": {
        "id": "J9HKuo4WB0ie",
        "colab": {
          "base_uri": "https://localhost:8080/"
        },
        "outputId": "4bd3badf-2419-48c1-a06e-28ac808d5c0d"
      },
      "source": [
        "print(\"\\033[1mCost function (Φ) for kmeans using Euclidean distance in 20 iterations\\033[0m\\n\")\n",
        "for i in range(len(costFuncED)):                #printing cost value for all iterations\n",
        "  print('Iteration no.'+str(i+1)+':    '+str(costFuncED[i]))"
      ],
      "execution_count": 11,
      "outputs": [
        {
          "output_type": "stream",
          "name": "stdout",
          "text": [
            "\u001b[1mCost function (Φ) for kmeans using Euclidean distance in 20 iterations\u001b[0m\n",
            "\n",
            "Iteration no.1:    1031297237.0599988\n",
            "Iteration no.2:    837084901.8799949\n",
            "Iteration no.3:    700223584.2699974\n",
            "Iteration no.4:    572177735.6600052\n",
            "Iteration no.5:    533121528.3100014\n",
            "Iteration no.6:    515608164.9900013\n",
            "Iteration no.7:    500726624.650002\n",
            "Iteration no.8:    489019622.29000056\n",
            "Iteration no.9:    481747843.86999893\n",
            "Iteration no.10:    476792430.63000125\n",
            "Iteration no.11:    472883517.72000045\n",
            "Iteration no.12:    469417482.07000077\n",
            "Iteration no.13:    467477384.21000105\n",
            "Iteration no.14:    466181181.0700026\n",
            "Iteration no.15:    464992825.94999784\n",
            "Iteration no.16:    464202262.4399996\n",
            "Iteration no.17:    463576253.8699982\n",
            "Iteration no.18:    463000778.0800011\n",
            "Iteration no.19:    462366473.40000093\n",
            "Iteration no.20:    461886629.75999975\n"
          ]
        }
      ]
    },
    {
      "cell_type": "code",
      "metadata": {
        "colab": {
          "base_uri": "https://localhost:8080/"
        },
        "id": "UMHE0tHznZQw",
        "outputId": "690a68fa-2d65-461a-c657-b4ed66507f1c"
      },
      "source": [
        "#below lines is copying centroids value after I(20) iterations to a file \n",
        "file1 = open(\"K-Centroids.txt\", \"w\")\n",
        "file1.write('Centroids of 10 clusters after 20 iterations for Euclidean Distance\\n\\n')\n",
        "print('\\033[1mCentroids of 10 clusters after 20 iterations for Euclidean Distance \\033[0m\\n')\n",
        "for i in range(len(centroidsDataED.value)):\n",
        "  file1.write('Centroid '+str(i+1)+' ->'+str(list(np.around(centroidsDataED.value[i][1],decimals=2)))+'\\n')\n",
        "  print('Centroid '+str(i+1)+' ->'+str(list(np.around(centroidsDataED.value[i][1],decimals=2))))"
      ],
      "execution_count": 12,
      "outputs": [
        {
          "output_type": "stream",
          "name": "stdout",
          "text": [
            "\u001b[1mCentroids of 10 clusters after 20 iterations for Euclidean Distance \u001b[0m\n",
            "\n",
            "Centroid 1 ->[0.11, 0.14, 0.34, 0.28, 0.39, 0.12, 0.22, 0.15, 0.15, 0.27, 0.11, 0.55, 0.1, 0.03, 0.04, 0.3, 0.29, 0.23, 1.75, 0.17, 0.99, 0.49, 0.16, 0.11, 0.47, 0.16, 0.08, 0.05, 0.04, 0.04, 0.04, 0.01, 0.04, 0.01, 0.05, 0.06, 0.15, 0.02, 0.03, 0.08, 0.02, 0.04, 0.03, 0.02, 0.11, 0.15, 0.01, 0.02, 0.14, 0.14, 0.02, 0.28, 0.12, 0.09, 7.23, 71.63, 364.41, 0.59]\n",
            "Centroid 2 ->[0.14, 0.16, 0.36, 0.22, 0.29, 0.14, 0.08, 0.15, 0.4, 0.49, 0.11, 0.55, 0.13, 0.09, 0.16, 0.26, 0.13, 0.38, 1.48, 0.23, 0.99, 0.8, 0.17, 0.18, 0.4, 0.14, 0.03, 0.02, 0.01, 0.02, 0.02, 0.0, 0.09, 0.0, 0.11, 0.03, 0.13, 0.0, 0.02, 0.03, 0.01, 0.03, 0.01, 0.01, 0.04, 0.04, 0.01, 0.03, 0.05, 0.12, 0.04, 0.32, 0.16, 0.1, 6.9, 130.5, 1074.3, 0.68]\n",
            "Centroid 3 ->[0.2, 0.17, 0.54, 0.0, 0.48, 0.28, 0.15, 0.17, 0.42, 0.43, 0.18, 0.57, 0.21, 0.25, 0.47, 0.31, 0.2, 0.42, 1.72, 0.43, 0.9, 0.23, 0.42, 0.23, 0.18, 0.05, 0.01, 0.0, 0.0, 0.01, 0.0, 0.0, 0.06, 0.0, 0.01, 0.05, 0.09, 0.0, 0.01, 0.04, 0.01, 0.0, 0.04, 0.01, 0.05, 0.05, 0.0, 0.02, 0.02, 0.09, 0.01, 0.35, 0.23, 0.06, 54.57, 487.7, 1741.52, 0.83]\n",
            "Centroid 4 ->[0.09, 0.15, 0.34, 0.13, 0.43, 0.14, 0.19, 0.13, 0.07, 0.27, 0.07, 0.56, 0.13, 0.03, 0.04, 0.27, 0.29, 0.25, 1.66, 0.12, 1.0, 0.11, 0.16, 0.09, 0.5, 0.24, 0.13, 0.11, 0.07, 0.1, 0.05, 0.04, 0.11, 0.04, 0.09, 0.09, 0.18, 0.01, 0.06, 0.08, 0.04, 0.04, 0.06, 0.04, 0.15, 0.11, 0.0, 0.03, 0.04, 0.15, 0.02, 0.28, 0.1, 0.04, 3.84, 43.29, 205.37, 0.57]\n",
            "Centroid 5 ->[0.13, 0.09, 0.25, 0.0, 0.23, 0.05, 0.12, 0.13, 0.03, 0.22, 0.07, 0.58, 0.09, 0.04, 0.03, 0.2, 0.11, 0.18, 1.61, 0.02, 0.88, 0.0, 0.06, 0.07, 0.66, 0.35, 0.2, 0.24, 0.09, 0.15, 0.07, 0.05, 0.14, 0.05, 0.16, 0.12, 0.21, 0.01, 0.1, 0.05, 0.03, 0.11, 0.08, 0.09, 0.28, 0.24, 0.0, 0.03, 0.02, 0.16, 0.01, 0.27, 0.05, 0.05, 2.65, 15.47, 69.19, 0.35]\n",
            "Centroid 6 ->[0.11, 0.09, 0.27, 0.0, 0.43, 0.14, 0.15, 0.11, 0.04, 0.21, 0.05, 0.51, 0.08, 0.02, 0.05, 0.36, 0.16, 0.19, 1.75, 0.07, 0.96, 0.03, 0.12, 0.09, 0.52, 0.34, 0.21, 0.18, 0.08, 0.11, 0.06, 0.06, 0.08, 0.06, 0.11, 0.12, 0.13, 0.0, 0.1, 0.06, 0.04, 0.04, 0.08, 0.06, 0.26, 0.17, 0.01, 0.02, 0.02, 0.14, 0.02, 0.25, 0.07, 0.06, 2.91, 23.4, 120.06, 0.48]\n",
            "Centroid 7 ->[0.08, 0.08, 0.25, 0.0, 0.23, 0.06, 0.09, 0.06, 0.03, 0.2, 0.03, 0.6, 0.08, 0.04, 0.01, 0.22, 0.06, 0.13, 1.77, 0.01, 0.55, 0.0, 0.04, 0.07, 1.04, 0.48, 0.43, 0.26, 0.26, 0.26, 0.21, 0.16, 0.09, 0.16, 0.25, 0.23, 0.18, 0.01, 0.17, 0.17, 0.08, 0.22, 0.04, 0.13, 0.43, 0.16, 0.0, 0.04, 0.02, 0.16, 0.01, 0.2, 0.04, 0.02, 2.06, 8.69, 35.45, 0.19]\n",
            "Centroid 8 ->[0.16, 0.18, 0.39, 0.18, 0.32, 0.13, 0.09, 0.16, 0.26, 0.41, 0.09, 0.78, 0.12, 0.12, 0.09, 0.26, 0.23, 0.13, 1.55, 0.14, 1.21, 0.22, 0.14, 0.17, 0.68, 0.17, 0.02, 0.02, 0.01, 0.02, 0.01, 0.0, 0.09, 0.0, 0.02, 0.06, 0.13, 0.01, 0.02, 0.02, 0.04, 0.08, 0.02, 0.01, 0.06, 0.12, 0.01, 0.02, 0.08, 0.16, 0.02, 0.52, 0.15, 0.06, 8.0, 108.92, 623.02, 0.61]\n",
            "Centroid 9 ->[0.04, 0.66, 0.16, 0.0, 0.23, 0.03, 0.02, 0.04, 0.01, 0.11, 0.0, 0.37, 0.04, 0.06, 0.0, 0.17, 0.01, 0.1, 1.58, 0.03, 0.41, 0.0, 0.0, 0.05, 0.21, 0.13, 3.44, 0.01, 0.13, 0.02, 0.02, 0.0, 0.1, 0.0, 0.03, 0.01, 0.02, 0.04, 0.06, 0.0, 0.06, 0.34, 0.02, 0.15, 0.66, 0.3, 0.01, 0.05, 0.02, 0.08, 0.02, 0.21, 0.0, 0.0, 1.41, 2.92, 10.35, 0.06]\n",
            "Centroid 10 ->[0.29, 0.13, 0.27, 0.08, 0.07, 0.11, 0.02, 0.13, 0.21, 0.38, 0.14, 0.58, 0.32, 0.59, 0.03, 0.15, 0.26, 0.12, 1.75, 0.04, 0.81, 0.21, 0.42, 0.27, 0.09, 0.05, 0.0, 0.0, 0.0, 0.0, 0.0, 0.0, 0.28, 0.0, 0.0, 0.03, 0.16, 0.0, 0.01, 0.02, 0.02, 0.01, 0.0, 0.01, 0.04, 0.05, 0.01, 0.05, 0.07, 0.3, 0.01, 0.26, 0.33, 0.12, 10.45, 388.56, 4058.56, 0.77]\n"
          ]
        }
      ]
    },
    {
      "cell_type": "markdown",
      "metadata": {
        "id": "TlzWsdfLOd7t"
      },
      "source": [
        "**K- Means using Manhattan distance**"
      ]
    },
    {
      "cell_type": "code",
      "metadata": {
        "id": "_XlGe7ipBy5d"
      },
      "source": [
        "#Function below will find nearest centroid to point and return the centroid index i.e., the line it is present in the file, its value(all dimenions) and cost of that data point \n",
        "def manDist(x):\n",
        "  minDist = float('inf')                                      #initializing distance to the inifinity\n",
        "  for i in centroidsDataMD.value:                             #looping through all the centroids\n",
        "    dist = np.sum(np.abs(np.array(x[1]) - np.array(i[1])))    #subtracting data point value with centroid value, taking absolute value, adding all values.\n",
        "    if dist < minDist:                                        #making sure we get minimum distance centroid\n",
        "      minDist = dist                                          #assigning minimum distance\n",
        "      clusterNumber = i[0]                                    #assigning the cluster number of that minimum distance centroid\n",
        "  return (clusterNumber,x[1],round(minDist,2))                #returning centrioid cluster number, values and cost of the point"
      ],
      "execution_count": 13,
      "outputs": []
    },
    {
      "cell_type": "code",
      "metadata": {
        "id": "ZDAOYK7A4cCU"
      },
      "source": [
        "costFuncMD = []                                                 #initializing cost list for I(20) iterations\n",
        "centroidsDataMD = centroidsDataRDD                              #copying initial centroid value\n",
        "for i in range(I):                                              #iterating I(20) times\n",
        "  clusters = allDataPoints.map(lambda x: manDist(x))            #calling euclDistance() function to get cluster each point it belongs to.\n",
        "  #below line taking centroid cluster number and value then grouping by the key and making list of all value lists and taking average of that to new centroid\n",
        "  #and then broadcasting centroids to access in euclDist in next iteration. \n",
        "  centroidsDataMD = sc.broadcast(clusters.map(lambda x:(x[0],x[1])).groupByKey().mapValues(list).map(lambda x: (x[0],np.average(x[1],axis =0))).collect())\n",
        "  costFuncMD.append(clusters.map(lambda x:x[2]).sum())          #Summing up cost of each point and appending it to the List."
      ],
      "execution_count": 14,
      "outputs": []
    },
    {
      "cell_type": "code",
      "metadata": {
        "id": "8prwbfGiwMt5",
        "colab": {
          "base_uri": "https://localhost:8080/"
        },
        "outputId": "a2a1945a-e5d7-41c8-d129-dfa102dcc7bf"
      },
      "source": [
        "print(\"\\033[1mCost function (Ψ) for kmeans using Manhattan distance in 20 iterations\\033[0m\\n\")\n",
        "for i in range(len(costFuncMD)):                            #printing cost value for all iterations\n",
        "  print('Iteration no.'+str(i+1)+':    '+str(costFuncMD[i]))"
      ],
      "execution_count": 15,
      "outputs": [
        {
          "output_type": "stream",
          "name": "stdout",
          "text": [
            "\u001b[1mCost function (Ψ) for kmeans using Manhattan distance in 20 iterations\u001b[0m\n",
            "\n",
            "Iteration no.1:    668216.239999998\n",
            "Iteration no.2:    602249.1699999982\n",
            "Iteration no.3:    588421.2899999956\n",
            "Iteration no.4:    560652.3000000007\n",
            "Iteration no.5:    537183.2799999998\n",
            "Iteration no.6:    505974.639999999\n",
            "Iteration no.7:    500342.62000000064\n",
            "Iteration no.8:    504576.24000000034\n",
            "Iteration no.9:    501448.2199999983\n",
            "Iteration no.10:    502537.4499999967\n",
            "Iteration no.11:    494289.5999999968\n",
            "Iteration no.12:    494973.71999999933\n",
            "Iteration no.13:    492448.33999999997\n",
            "Iteration no.14:    486815.32000000234\n",
            "Iteration no.15:    481487.9999999959\n",
            "Iteration no.16:    473876.62000000227\n",
            "Iteration no.17:    471387.86000000057\n",
            "Iteration no.18:    467020.6300000012\n",
            "Iteration no.19:    447292.30000000156\n",
            "Iteration no.20:    438184.30999999895\n"
          ]
        }
      ]
    },
    {
      "cell_type": "code",
      "metadata": {
        "colab": {
          "base_uri": "https://localhost:8080/"
        },
        "id": "kSD3O6nMEMkH",
        "outputId": "ec006adb-cb5f-4cd4-e18a-dfdacc17d4c2"
      },
      "source": [
        "#below lines is copying centroids value after I(20) iterations to a file\n",
        "file1.write('\\n\\nCentroids of 10 clusters after 20 iterations for Manhattan Distance \\n\\n')\n",
        "print('\\033[1mCentroids of 10 clusters after 20 iterations for Manhattan distance \\033[0m \\n')\n",
        "for i in range(len(centroidsDataMD.value)):\n",
        "  file1.write('Centroid '+str(i+1)+' ->'+str(list(np.around(centroidsDataMD.value[i][1],decimals=2)))+'\\n')\n",
        "  print('Centroid '+str(i+1)+' ->'+str(list(np.around(centroidsDataMD.value[i][1],decimals=2))))\n",
        "file1.close()"
      ],
      "execution_count": 16,
      "outputs": [
        {
          "output_type": "stream",
          "name": "stdout",
          "text": [
            "\u001b[1mCentroids of 10 clusters after 20 iterations for Manhattan distance \u001b[0m \n",
            "\n",
            "Centroid 1 ->[0.11, 0.12, 0.33, 0.17, 0.39, 0.13, 0.21, 0.15, 0.13, 0.27, 0.1, 0.54, 0.09, 0.03, 0.02, 0.29, 0.31, 0.22, 1.75, 0.19, 1.0, 0.46, 0.17, 0.1, 0.46, 0.16, 0.08, 0.04, 0.03, 0.03, 0.04, 0.02, 0.04, 0.02, 0.05, 0.06, 0.15, 0.01, 0.03, 0.08, 0.02, 0.03, 0.03, 0.02, 0.14, 0.14, 0.01, 0.03, 0.14, 0.14, 0.02, 0.29, 0.13, 0.09, 6.9, 70.52, 338.72, 0.6]\n",
            "Centroid 2 ->[0.14, 0.15, 0.34, 0.34, 0.29, 0.13, 0.07, 0.17, 0.37, 0.46, 0.1, 0.52, 0.14, 0.09, 0.14, 0.28, 0.14, 0.35, 1.48, 0.22, 0.92, 0.81, 0.19, 0.19, 0.38, 0.14, 0.02, 0.02, 0.01, 0.02, 0.02, 0.0, 0.1, 0.0, 0.1, 0.04, 0.14, 0.0, 0.02, 0.03, 0.01, 0.02, 0.01, 0.01, 0.04, 0.05, 0.01, 0.03, 0.05, 0.12, 0.04, 0.29, 0.16, 0.1, 5.85, 114.28, 1151.35, 0.66]\n",
            "Centroid 3 ->[0.3, 0.2, 0.3, 0.05, 0.16, 0.09, 0.03, 0.15, 0.29, 0.44, 0.17, 0.61, 0.34, 0.64, 0.05, 0.22, 0.29, 0.12, 2.05, 0.05, 0.94, 0.05, 0.4, 0.31, 0.24, 0.07, 0.0, 0.0, 0.0, 0.01, 0.0, 0.0, 0.21, 0.0, 0.0, 0.04, 0.16, 0.0, 0.01, 0.03, 0.01, 0.01, 0.01, 0.01, 0.05, 0.04, 0.01, 0.04, 0.03, 0.11, 0.01, 0.28, 0.35, 0.09, 6.38, 247.19, 2756.26, 0.77]\n",
            "Centroid 4 ->[0.09, 0.15, 0.33, 0.12, 0.43, 0.14, 0.18, 0.13, 0.06, 0.28, 0.07, 0.58, 0.12, 0.03, 0.05, 0.28, 0.27, 0.25, 1.62, 0.12, 1.0, 0.05, 0.15, 0.1, 0.53, 0.27, 0.15, 0.13, 0.08, 0.11, 0.06, 0.04, 0.11, 0.05, 0.1, 0.1, 0.18, 0.01, 0.09, 0.08, 0.04, 0.04, 0.07, 0.04, 0.16, 0.11, 0.0, 0.02, 0.03, 0.16, 0.02, 0.27, 0.09, 0.03, 3.65, 38.1, 187.05, 0.54]\n",
            "Centroid 5 ->[0.12, 0.09, 0.26, 0.0, 0.23, 0.06, 0.13, 0.08, 0.03, 0.21, 0.06, 0.59, 0.09, 0.03, 0.02, 0.23, 0.09, 0.17, 1.66, 0.01, 0.8, 0.0, 0.05, 0.06, 0.88, 0.47, 0.35, 0.31, 0.22, 0.27, 0.19, 0.15, 0.14, 0.15, 0.26, 0.22, 0.23, 0.01, 0.16, 0.16, 0.06, 0.17, 0.07, 0.11, 0.3, 0.22, 0.0, 0.03, 0.02, 0.18, 0.02, 0.24, 0.05, 0.05, 2.35, 11.63, 51.58, 0.27]\n",
            "Centroid 6 ->[0.11, 0.09, 0.26, 0.0, 0.36, 0.11, 0.13, 0.13, 0.05, 0.23, 0.05, 0.48, 0.09, 0.04, 0.03, 0.33, 0.14, 0.17, 1.74, 0.05, 0.87, 0.02, 0.1, 0.08, 0.49, 0.34, 0.2, 0.2, 0.07, 0.11, 0.05, 0.05, 0.08, 0.05, 0.12, 0.13, 0.13, 0.0, 0.09, 0.05, 0.03, 0.05, 0.07, 0.07, 0.28, 0.19, 0.01, 0.03, 0.02, 0.14, 0.02, 0.25, 0.07, 0.05, 2.81, 20.88, 103.95, 0.46]\n",
            "Centroid 7 ->[0.16, 0.17, 0.38, 0.16, 0.35, 0.13, 0.1, 0.15, 0.26, 0.38, 0.09, 0.77, 0.13, 0.11, 0.09, 0.27, 0.23, 0.16, 1.59, 0.13, 1.15, 0.29, 0.15, 0.17, 0.66, 0.16, 0.02, 0.02, 0.01, 0.02, 0.01, 0.0, 0.09, 0.0, 0.02, 0.06, 0.13, 0.01, 0.02, 0.02, 0.04, 0.08, 0.01, 0.01, 0.06, 0.12, 0.01, 0.02, 0.08, 0.16, 0.01, 0.48, 0.14, 0.06, 7.44, 100.85, 603.84, 0.62]\n",
            "Centroid 8 ->[0.05, 0.51, 0.18, 0.0, 0.22, 0.04, 0.03, 0.04, 0.01, 0.11, 0.01, 0.44, 0.05, 0.05, 0.0, 0.16, 0.02, 0.1, 1.63, 0.03, 0.42, 0.0, 0.01, 0.06, 0.43, 0.17, 2.69, 0.02, 0.13, 0.04, 0.02, 0.0, 0.09, 0.0, 0.04, 0.02, 0.05, 0.03, 0.06, 0.0, 0.06, 0.32, 0.02, 0.15, 0.64, 0.27, 0.01, 0.04, 0.02, 0.09, 0.02, 0.2, 0.01, 0.0, 1.51, 3.75, 14.41, 0.08]\n",
            "Centroid 9 ->[0.18, 0.19, 0.82, 0.13, 0.68, 0.48, 0.25, 0.16, 0.53, 0.55, 0.19, 0.73, 0.14, 0.11, 0.88, 0.3, 0.12, 0.69, 1.53, 0.75, 1.22, 0.08, 0.48, 0.13, 0.05, 0.0, 0.02, 0.01, 0.0, 0.01, 0.0, 0.0, 0.0, 0.01, 0.0, 0.0, 0.02, 0.0, 0.0, 0.04, 0.0, 0.0, 0.08, 0.01, 0.04, 0.03, 0.0, 0.0, 0.01, 0.09, 0.0, 0.51, 0.16, 0.02, 104.38, 786.15, 1367.68, 0.99]\n",
            "Centroid 10 ->[0.07, 0.01, 0.15, 0.01, 0.07, 0.08, 0.0, 0.04, 0.05, 0.15, 0.06, 0.06, 0.05, 0.01, 0.03, 0.06, 0.06, 0.06, 0.44, 0.01, 0.17, 1.36, 0.1, 0.08, 0.0, 0.0, 0.0, 0.0, 0.0, 0.0, 0.0, 0.0, 0.01, 0.02, 0.0, 0.02, 0.0, 0.0, 0.01, 0.0, 0.07, 0.0, 0.0, 0.0, 0.03, 0.11, 0.0, 0.01, 0.32, 1.48, 0.03, 0.28, 0.28, 0.29, 41.94, 1653.71, 9220.14, 0.71]\n"
          ]
        }
      ]
    },
    {
      "cell_type": "code",
      "metadata": {
        "colab": {
          "base_uri": "https://localhost:8080/",
          "height": 295
        },
        "id": "A_nwfL1nvlUc",
        "outputId": "cf9fb308-8718-4463-d98d-3a7998e6ec17"
      },
      "source": [
        "#graph for cost function vs Iterations for Euclean distance\n",
        "x = [i+1 for i in range(I)]\n",
        "plt.plot(x, costFuncED, label=\"Cost function for Euclean distance \");\n",
        "plt.grid(True,color='k',linestyle=':')\n",
        "\n",
        "plt.title(\"Cost vs Iterations K- Means Graph(Euclean distance)\");\n",
        "plt.xlabel(\"Iterations\");\n",
        "plt.xlim(0,I+1)\n",
        "plt.xticks(x) \n",
        "plt.ylabel(\"Cost Function (Φ)\");\n",
        "plt.legend(loc=0);\n"
      ],
      "execution_count": 17,
      "outputs": [
        {
          "output_type": "display_data",
          "data": {
            "image/png": "[encoded data removed]",
            "text/plain": [
              "<Figure size 432x288 with 1 Axes>"
            ]
          },
          "metadata": {
            "needs_background": "light"
          }
        }
      ]
    },
    {
      "cell_type": "code",
      "metadata": {
        "colab": {
          "base_uri": "https://localhost:8080/",
          "height": 295
        },
        "id": "g6rBe4AxNEpn",
        "outputId": "86be32bf-8e3b-4bcd-fd65-f85fb1236450"
      },
      "source": [
        "#graph for cost function vs Iterations for Manhattan distance\n",
        "plt.plot(x, costFuncMD, label=\"Cost function for manhattan distance \");\n",
        "plt.grid(True,color='k',linestyle=':')\n",
        "plt.title(\"Cost vs Iterations K- Means Graph(Manhattan distance)\");\n",
        "plt.xlabel(\"Iterations\");\n",
        "plt.xlim(0,I+1)\n",
        "plt.xticks(x) \n",
        "plt.ylabel(\"Cost Function (Ψ)\");\n",
        "plt.legend(loc=0);"
      ],
      "execution_count": 18,
      "outputs": [
        {
          "output_type": "display_data",
          "data": {
            "image/png": "[encoded data removed]",
            "text/plain": [
              "<Figure size 432x288 with 1 Axes>"
            ]
          },
          "metadata": {
            "needs_background": "light"
          }
        }
      ]
    },
    {
      "cell_type": "code",
      "metadata": {
        "colab": {
          "base_uri": "https://localhost:8080/"
        },
        "id": "wmw8imHiNGWR",
        "outputId": "45e7398e-5555-48cf-8463-583d3fb5b5a0"
      },
      "source": [
        "#percentage change in cost function after 10 iterations for Euclidean distance\n",
        "perChED = ((costFuncED[0] - costFuncED[9])*100)/costFuncED[0]\n",
        "\n",
        "print('Percentage change in Cost Function(Φ) after 10 iterations for Euclidean Distance is '+'\\033[1m'+str(round(perChED,2))+'\\033[0m')"
      ],
      "execution_count": 19,
      "outputs": [
        {
          "output_type": "stream",
          "name": "stdout",
          "text": [
            "Percentage change in Cost Function(Φ) after 10 iterations for Euclidean Distance is \u001b[1m53.77\u001b[0m\n"
          ]
        }
      ]
    },
    {
      "cell_type": "code",
      "metadata": {
        "colab": {
          "base_uri": "https://localhost:8080/"
        },
        "id": "RM7sqWf1Jcar",
        "outputId": "21984af5-7266-477f-b91e-415a8e2f65ad"
      },
      "source": [
        "#percentage change in cost function after 10 iterations for Manhattan distance\n",
        "perChMD = ((costFuncMD[0] - costFuncMD[9])*100)/costFuncMD[0]\n",
        "print('Percentage change in Cost Function(Φ) after 10 iterations for Manhattan distance is '+'\\033[1m'+str(round(perChMD,2))+'\\033[0m')"
      ],
      "execution_count": 20,
      "outputs": [
        {
          "output_type": "stream",
          "name": "stdout",
          "text": [
            "Percentage change in Cost Function(Φ) after 10 iterations for Manhattan distance is \u001b[1m24.79\u001b[0m\n"
          ]
        }
      ]
    },
    {
      "cell_type": "markdown",
      "metadata": {
        "id": "_QXq-mfnw-c2"
      },
      "source": [
        "**Cost function comparision for Euclidean distance and Manhattan distance**"
      ]
    },
    {
      "cell_type": "markdown",
      "metadata": {
        "id": "dy1HpIn0RXst"
      },
      "source": [
        "The Cost function for Euclidean distance decreases gradually in each and every iteration after updating the centroid through out 20 iteration, where as cost function for Manhattan distance also decreases but with some slight adjustments in between 20 iterations, after 10 iteration the decrease in cost function for Euclidean distance more than decrease in Manhattan distance. Therefore we can say that Euclidean distance works with better performance than Manhattan distance for the given data."
      ]
    }
  ]
}